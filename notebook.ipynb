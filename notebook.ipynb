{
 "cells": [
  {
   "cell_type": "code",
   "execution_count": 4,
   "metadata": {},
   "outputs": [
    {
     "name": "stdout",
     "output_type": "stream",
     "text": [
      "Please start speaking...\n",
      "Listening...\n",
      "Recognized Text: Halo semuanya namaku Dinda Putri Khairunnisa aku belum Ada progres untuk model mesin ini Jadi bagaimana ya kira-kira\n",
      "Word Count: 18\n",
      "Filler Words Count: 2\n",
      "Speech Pace: 108.17 words per minute\n"
     ]
    }
   ],
   "source": [
    "import speech_recognition as sr\n",
    "import time\n",
    "import re\n",
    "\n",
    "def count_words(text):\n",
    "    return len(text.split())\n",
    "\n",
    "\n",
    "def calculate_pace(word_count, duration):\n",
    "    if duration == 0:\n",
    "        return 0\n",
    "    return (word_count / duration) * 60  # words per minute\n",
    "\n",
    "# Function to detect filler words\n",
    "def detect_fillers(text):\n",
    "    pattern = r'\\b(?:um|uh|like|you know|so|aaaa|uhmmmm|mmm|ya|kayak apa ya|apasih namanya|em|e|jadi)\\b'\n",
    "    filler_words = re.findall(pattern, text, re.IGNORECASE)\n",
    "    return len(filler_words)\n",
    "\n",
    "\n",
    "recognizer = sr.Recognizer()\n",
    "mic = sr.Microphone()\n",
    "\n",
    "print(\"Please start speaking...\")\n",
    "\n",
    "try:\n",
    "    with mic as source:\n",
    "        # Adjust for ambient noise\n",
    "        recognizer.adjust_for_ambient_noise(source)\n",
    "        \n",
    "        # Record audio\n",
    "        print(\"Listening...\")\n",
    "        audio = recognizer.record(source, duration=10)\n",
    "\n",
    "      \n",
    "        text = recognizer.recognize_google(audio, language='id-ID')\n",
    "        print(f\"Recognized Text: {text}\")\n",
    "\n",
    "       \n",
    "        duration = len(audio.frame_data) / audio.sample_rate / audio.sample_width  \n",
    "\n",
    "       \n",
    "        word_count = count_words(text)\n",
    "        filler_count = detect_fillers(text)\n",
    "        pace = calculate_pace(word_count, duration)\n",
    "\n",
    "       \n",
    "        print(f\"Word Count: {word_count}\")\n",
    "        print(f\"Filler Words Count: {filler_count}\")\n",
    "        print(f\"Speech Pace: {pace:.2f} words per minute\")\n",
    "\n",
    "except sr.UnknownValueError:\n",
    "    print(\"Sorry, could not understand the audio.\")\n",
    "except sr.RequestError:\n",
    "    print(\"Sorry, there was an error with the request.\")\n",
    "except Exception as e:\n",
    "    print(f\"An error occurred: {e}\")"
   ]
  }
 ],
 "metadata": {
  "kernelspec": {
   "display_name": "env-1-Aby7sJ7u",
   "language": "python",
   "name": "python3"
  },
  "language_info": {
   "codemirror_mode": {
    "name": "ipython",
    "version": 3
   },
   "file_extension": ".py",
   "mimetype": "text/x-python",
   "name": "python",
   "nbconvert_exporter": "python",
   "pygments_lexer": "ipython3",
   "version": "3.12.0"
  }
 },
 "nbformat": 4,
 "nbformat_minor": 2
}
